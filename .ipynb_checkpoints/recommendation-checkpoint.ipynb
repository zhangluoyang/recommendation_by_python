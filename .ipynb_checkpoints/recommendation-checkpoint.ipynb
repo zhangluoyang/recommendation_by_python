{
 "cells": [
  {
   "cell_type": "markdown",
   "metadata": {},
   "source": [
    "推荐系统实战 张洛阳"
   ]
  },
  {
   "cell_type": "code",
   "execution_count": 1,
   "metadata": {
    "collapsed": true
   },
   "outputs": [],
   "source": [
    "from IPython.display import Latex"
   ]
  },
  {
   "cell_type": "markdown",
   "metadata": {},
   "source": [
    "均方根误差和平均绝对误差"
   ]
  },
  {
   "cell_type": "code",
   "execution_count": 4,
   "metadata": {
    "collapsed": false,
    "scrolled": true
   },
   "outputs": [
    {
     "data": {
      "text/latex": [
       "$RMSE=\\frac{\\sqrt{\\sum_{u,i\\in T}(r_{ui}-\\hat{r}_{u,i})^2}}{|T|}$"
      ],
      "text/plain": [
       "<IPython.core.display.Latex object>"
      ]
     },
     "execution_count": 4,
     "metadata": {},
     "output_type": "execute_result"
    }
   ],
   "source": [
    "Latex(r\"$RMSE=\\frac{\\sqrt{\\sum_{u,i\\in T}(r_{ui}-\\hat{r}_{u,i})^2}}{|T|}$\")"
   ]
  },
  {
   "cell_type": "code",
   "execution_count": 5,
   "metadata": {
    "collapsed": false
   },
   "outputs": [
    {
     "data": {
      "text/latex": [
       "$MAE=\\frac{\\sum_{u,i\\in T}|r_{ui}-\\hat{r}_{u,i}|}{|T|}$"
      ],
      "text/plain": [
       "<IPython.core.display.Latex object>"
      ]
     },
     "execution_count": 5,
     "metadata": {},
     "output_type": "execute_result"
    }
   ],
   "source": [
    "Latex(r\"$MAE=\\frac{\\sum_{u,i\\in T}|r_{ui}-\\hat{r}_{u,i}|}{|T|}$\")"
   ]
  },
  {
   "cell_type": "markdown",
   "metadata": {},
   "source": [
    "令records[i]=[u,i,rui,pui]这里假设用户u对商品i的预测打分是pui，真实打分是rui"
   ]
  },
  {
   "cell_type": "code",
   "execution_count": 1,
   "metadata": {
    "collapsed": true
   },
   "outputs": [],
   "source": [
    "import math"
   ]
  },
  {
   "cell_type": "code",
   "execution_count": 7,
   "metadata": {
    "collapsed": false
   },
   "outputs": [],
   "source": [
    "def RMSE(recoders):\n",
    "    error_power = map(lambda recoder: (recoder[2]-recoder[3])*(recoder[2]-recoder[3]) , recoders)\n",
    "    error_power_sum = sum(error_power)\n",
    "    error_sqrt = math.sqrt(error_power_sum)\n",
    "    error_sqrt = error_sqrt / float(len(recoders))\n",
    "    return error_sqrt"
   ]
  },
  {
   "cell_type": "code",
   "execution_count": 8,
   "metadata": {
    "collapsed": true
   },
   "outputs": [],
   "source": [
    "def MAE(recoders):\n",
    "    error_absolute = map(lambda recoder: abs(recoder[2]-recoder[3]) , recoders)\n",
    "    error_absolute = sum(error_absolute)/float(len(recoders))\n",
    "    return error_absolute"
   ]
  },
  {
   "cell_type": "markdown",
   "metadata": {
    "collapsed": false,
    "scrolled": true
   },
   "source": [
    "TopN推荐的算法评估如下\n",
    "R(u)是根据用户在训练集上的行为给用户的推荐列表，而T(u)是用户在测试集上的推荐列表"
   ]
  },
  {
   "cell_type": "code",
   "execution_count": 9,
   "metadata": {
    "collapsed": false
   },
   "outputs": [
    {
     "data": {
      "text/latex": [
       "$Recall=\\frac{\\sum_{u \\epsilon U}{|R(u)\\bigcap  T(U)|}}{\\sum_{u \\epsilon U}|T(u)|}$"
      ],
      "text/plain": [
       "<IPython.core.display.Latex object>"
      ]
     },
     "execution_count": 9,
     "metadata": {},
     "output_type": "execute_result"
    }
   ],
   "source": [
    "Latex(r\"$Recall=\\frac{\\sum_{u \\epsilon U}{|R(u)\\bigcap  T(U)|}}{\\sum_{u \\epsilon U}|T(u)|}$\")"
   ]
  },
  {
   "cell_type": "code",
   "execution_count": 10,
   "metadata": {
    "collapsed": false
   },
   "outputs": [
    {
     "data": {
      "text/latex": [
       "$Precision=\\frac{\\sum_{u \\epsilon U}{|R(u)\\bigcap  T(U)|}}{\\sum_{u \\epsilon U}|R(u)|}$"
      ],
      "text/plain": [
       "<IPython.core.display.Latex object>"
      ]
     },
     "execution_count": 10,
     "metadata": {},
     "output_type": "execute_result"
    }
   ],
   "source": [
    "Latex(r\"$Precision=\\frac{\\sum_{u \\epsilon U}{|R(u)\\bigcap  T(U)|}}{\\sum_{u \\epsilon U}|R(u)|}$\")"
   ]
  },
  {
   "cell_type": "code",
   "execution_count": 2,
   "metadata": {
    "collapsed": true
   },
   "outputs": [],
   "source": [
    "import random"
   ]
  },
  {
   "cell_type": "code",
   "execution_count": 3,
   "metadata": {
    "collapsed": true
   },
   "outputs": [],
   "source": [
    "def splitData(data, M, k, seed):\n",
    "    test = []\n",
    "    train = []\n",
    "    random.seed(seed)\n",
    "    for user, item, score in data:\n",
    "        if random.randint(0,M)==k:\n",
    "            test.append([user, item, score])\n",
    "        else:\n",
    "            train.append([user, item, score])\n",
    "    return train, test"
   ]
  },
  {
   "cell_type": "markdown",
   "metadata": {},
   "source": [
    "评价指标使用召回率和精确度"
   ]
  },
  {
   "cell_type": "code",
   "execution_count": 13,
   "metadata": {
    "collapsed": true
   },
   "outputs": [],
   "source": [
    "def Recall(train, test, N):\n",
    "    hit = 0\n",
    "    all = 0\n",
    "    for user in train.keys():\n",
    "        tu = test[user]\n",
    "        rank = GetRecommendation(user, N)\n",
    "        for item, pui in rank:\n",
    "            if item in tu:\n",
    "                hit += 1\n",
    "        all += len(tu)\n",
    "    return hit / (all*1.0)"
   ]
  },
  {
   "cell_type": "code",
   "execution_count": 14,
   "metadata": {
    "collapsed": true
   },
   "outputs": [],
   "source": [
    "def Precision(train, test, N):\n",
    "    hit = 0\n",
    "    all = 0\n",
    "    for user in train.keys():\n",
    "        tu = test[user]\n",
    "        rank = GetRecommendation(user, N)\n",
    "        for item, pui in rank:\n",
    "            if item in tu:\n",
    "                hit += 1\n",
    "        all += N\n",
    "    return hit / (all*1.0)"
   ]
  },
  {
   "cell_type": "markdown",
   "metadata": {},
   "source": [
    "推荐系统的覆盖率也是一个重要的评价指标，覆盖率越好，越能体现推荐系统挖掘出长尾的能力"
   ]
  },
  {
   "cell_type": "code",
   "execution_count": 15,
   "metadata": {
    "collapsed": false
   },
   "outputs": [
    {
     "data": {
      "text/latex": [
       "$Coverage=\\frac{U_{u \\epsilon U} R(u)}{|I|}$"
      ],
      "text/plain": [
       "<IPython.core.display.Latex object>"
      ]
     },
     "execution_count": 15,
     "metadata": {},
     "output_type": "execute_result"
    }
   ],
   "source": [
    "Latex(r\"$Coverage=\\frac{U_{u \\epsilon U} R(u)}{|I|}$\")"
   ]
  },
  {
   "cell_type": "code",
   "execution_count": 16,
   "metadata": {
    "collapsed": false
   },
   "outputs": [],
   "source": [
    "def Coverage(train, test, N):\n",
    "    recommend_item = set()\n",
    "    all_items = set()\n",
    "    for user in train.keys():\n",
    "        for item in train[user].keys():\n",
    "            all_items.add(item)\n",
    "        rank = GetRecommendation(user, N)\n",
    "        for item, pui in rank:\n",
    "            recommend_item.add(item)\n",
    "    return len(recommend_item)/(len(all_items)*1.0)"
   ]
  },
  {
   "cell_type": "markdown",
   "metadata": {},
   "source": [
    "推荐系统的新颖度 如果推荐的物品都很热门 说明推荐的新颖度较低"
   ]
  },
  {
   "cell_type": "code",
   "execution_count": 17,
   "metadata": {
    "collapsed": true
   },
   "outputs": [],
   "source": [
    "def Popularity(train, test, N):\n",
    "    item_popularity = dict()\n",
    "    for user, items in train.items():\n",
    "        for item in items.keys():\n",
    "            if item not in item_popularity:\n",
    "                item_popularity[item] = 0\n",
    "            item_popularity[item] += 1\n",
    "        ret = 0\n",
    "        n = 0\n",
    "        for user in train.keys():\n",
    "            rank = GetRecommendation(user, N)\n",
    "            for item, pui in rank:\n",
    "                ret += math.log(1 + item_popularity[item])\n",
    "                n += 1\n",
    "        ret /= n * 1.0\n",
    "        return ret"
   ]
  },
  {
   "cell_type": "markdown",
   "metadata": {
    "collapsed": true
   },
   "source": [
    "基于用户的协同过滤算法\n",
    "第一步：找到和目标用户兴趣相似的用户集合\n",
    "第二步：找到这个集合中的用户喜欢的，而且目标用户没有听说过的物品推荐给目标用户"
   ]
  },
  {
   "cell_type": "markdown",
   "metadata": {},
   "source": [
    "计算两个用户之间的相似度可以使用Jaccard公式或者是余弦相似度"
   ]
  },
  {
   "cell_type": "code",
   "execution_count": 18,
   "metadata": {
    "collapsed": false,
    "scrolled": false
   },
   "outputs": [
    {
     "data": {
      "text/latex": [
       "$W_{uv}=\\frac{|N(u)\\cap N(v)| }{|N(u) \\cup N(v)|}$"
      ],
      "text/plain": [
       "<IPython.core.display.Latex object>"
      ]
     },
     "execution_count": 18,
     "metadata": {},
     "output_type": "execute_result"
    }
   ],
   "source": [
    "Latex(r\"$W_{uv}=\\frac{|N(u)\\cap N(v)| }{|N(u) \\cup N(v)|}$\")"
   ]
  },
  {
   "cell_type": "code",
   "execution_count": 19,
   "metadata": {
    "collapsed": false
   },
   "outputs": [
    {
     "data": {
      "text/latex": [
       "$W_{uv}=\\frac{|N(u) \\cap N(v)|}{\\sqrt{|N(u)| |N(v)|}}$"
      ],
      "text/plain": [
       "<IPython.core.display.Latex object>"
      ]
     },
     "execution_count": 19,
     "metadata": {},
     "output_type": "execute_result"
    }
   ],
   "source": [
    "Latex(r\"$W_{uv}=\\frac{|N(u) \\cap N(v)|}{\\sqrt{|N(u)| |N(v)|}}$\")"
   ]
  },
  {
   "cell_type": "code",
   "execution_count": 20,
   "metadata": {
    "collapsed": true
   },
   "outputs": [],
   "source": [
    "def UserSimilarity(train):\n",
    "    W = dict()\n",
    "    for u in train.keys():\n",
    "        for v in train.keys():\n",
    "            if u==v:\n",
    "                continue\n",
    "            W[u][v] = len(train[u] & train[v])\n",
    "            W[u][v] /= math.sqrt(len(train[u]) * len(train[v]) *1.0 )\n",
    "    return W"
   ]
  },
  {
   "cell_type": "markdown",
   "metadata": {},
   "source": [
    "上述计算相似度时候的代价比较高，一般的做法是如下首先建立一个二维的表格"
   ]
  },
  {
   "cell_type": "code",
   "execution_count": 21,
   "metadata": {
    "collapsed": true
   },
   "outputs": [],
   "source": [
    "def UserSimilarity(train):\n",
    "    item_users = dict()\n",
    "    for u, items in train.items(): \n",
    "        for i in items.keys(): \n",
    "            if i not in item_users:\n",
    "                item_users[i] = set()\n",
    "            print type(item_users[i])\n",
    "            item_users[i].add[u]\n",
    "    # calculate co-rated items between users\n",
    "    C = dict()\n",
    "    N = dict()\n",
    "    for i, users in item_users.items():\n",
    "        for u in users:\n",
    "            N[u] += 1\n",
    "            for v in users:\n",
    "                if u==v:\n",
    "                    continue\n",
    "                C[u][v] += 1\n",
    "    # calculate finial similarity matrix W\n",
    "    W = dict()\n",
    "    for u, related_users in C.items():\n",
    "        for v, cuv in related_users.items():\n",
    "            W[u][v] = cuv / math.sqrt(N[u]*N[v])\n",
    "    return W"
   ]
  },
  {
   "cell_type": "markdown",
   "metadata": {},
   "source": [
    "得到用户之间的兴趣相似度后，UserCF算法会给用户推荐和他兴趣最相似的K个用户喜欢的物品。"
   ]
  },
  {
   "cell_type": "code",
   "execution_count": 22,
   "metadata": {
    "collapsed": false
   },
   "outputs": [
    {
     "data": {
      "text/latex": [
       "$p(u,i) = \\sum_{v \\epsilon S(u, k) \\cap N(i)}{w_{uv}r_{vi}}$"
      ],
      "text/plain": [
       "<IPython.core.display.Latex object>"
      ]
     },
     "execution_count": 22,
     "metadata": {},
     "output_type": "execute_result"
    }
   ],
   "source": [
    "Latex(r\"$p(u,i) = \\sum_{v \\epsilon S(u, k) \\cap N(i)}{w_{uv}r_{vi}}$\")"
   ]
  },
  {
   "cell_type": "markdown",
   "metadata": {},
   "source": [
    "r_{vi}表示用户v对i的感兴趣程度 w_{uv}表示用户u和v的相似性程度"
   ]
  },
  {
   "cell_type": "code",
   "execution_count": 23,
   "metadata": {
    "collapsed": true
   },
   "outputs": [],
   "source": [
    "def Recommend(user, train, W):\n",
    "    rank = dict()\n",
    "    interacted_items = train[user]  # 用户历史item和商品评分数据\n",
    "    for v, wuv in sorted(W[user].items, key=interacted_items(1), reverse=True)[0:k]:  # 找出用户u最相似的前k个用户\n",
    "        for i, rvi in train[v].items: # 找出这k个用户的数据\n",
    "            if i in interacted_items:\n",
    "                continue\n",
    "            rank[i] += muv * rvi  # 用户u与用户v的相似度*用户u对商品i的相似度\n",
    "    return rank"
   ]
  },
  {
   "cell_type": "code",
   "execution_count": 4,
   "metadata": {
    "collapsed": true
   },
   "outputs": [],
   "source": [
    "# 推荐系统数据集\n",
    "# 需要统计用户数目 商品数目\n",
    "with open(\"ml-1m/ratings.dat\", \"r\") as f:\n",
    "    lines = f.readlines()"
   ]
  },
  {
   "cell_type": "code",
   "execution_count": 5,
   "metadata": {
    "collapsed": false
   },
   "outputs": [],
   "source": [
    "lines = map(lambda line:line.strip() , lines)\n",
    "datas = []\n",
    "for line in lines:\n",
    "    d = line.split(\"::\")[0:3]\n",
    "#     datas.append([int(d[0]), int(d[1]), int(d[2])]) # user_id item_id score\n",
    "    datas.append([int(d[0]), int(d[1]), 1]) # user_id item_id score"
   ]
  },
  {
   "cell_type": "code",
   "execution_count": 6,
   "metadata": {
    "collapsed": true
   },
   "outputs": [],
   "source": [
    "data = datas\n",
    "M = 20\n",
    "k = 10\n",
    "seed = 1"
   ]
  },
  {
   "cell_type": "code",
   "execution_count": 7,
   "metadata": {
    "collapsed": false
   },
   "outputs": [],
   "source": [
    "train, test = splitData(data, M, k, seed)"
   ]
  },
  {
   "cell_type": "code",
   "execution_count": 8,
   "metadata": {
    "collapsed": false
   },
   "outputs": [
    {
     "name": "stdout",
     "output_type": "stream",
     "text": [
      "训练集:952458\n",
      "测试集:47751\n"
     ]
    }
   ],
   "source": [
    "print \"训练集:{}\".format(len(train))\n",
    "print \"测试集:{}\".format(len(test))"
   ]
  },
  {
   "cell_type": "markdown",
   "metadata": {},
   "source": [
    "建立用户 user item 商品 表格"
   ]
  },
  {
   "cell_type": "code",
   "execution_count": 9,
   "metadata": {
    "collapsed": false
   },
   "outputs": [
    {
     "name": "stdout",
     "output_type": "stream",
     "text": [
      "[1, 1193, 1]\n"
     ]
    }
   ],
   "source": [
    "print train[0]"
   ]
  },
  {
   "cell_type": "code",
   "execution_count": 10,
   "metadata": {
    "collapsed": false
   },
   "outputs": [],
   "source": [
    "train_dict = {}  # user_id {item_id:score}\n",
    "test_dict = {}\n",
    "for user, item, score in train:\n",
    "    if user not in train_dict:\n",
    "        train_dict[user] = {}\n",
    "    train_dict[user][item]=score\n",
    "for user, item, score in test:\n",
    "    if user not in test_dict:\n",
    "        test_dict[user] = {}\n",
    "    test_dict[user][item]=score"
   ]
  },
  {
   "cell_type": "code",
   "execution_count": 11,
   "metadata": {
    "collapsed": false
   },
   "outputs": [
    {
     "name": "stdout",
     "output_type": "stream",
     "text": [
      "6040\n",
      "51\n"
     ]
    }
   ],
   "source": [
    "print len(train_dict)\n",
    "print len(train_dict[1])"
   ]
  },
  {
   "cell_type": "code",
   "execution_count": 32,
   "metadata": {
    "collapsed": false
   },
   "outputs": [],
   "source": [
    "def UserSimilarity(train):\n",
    "    item_users = dict()\n",
    "    for u, items in train.items(): \n",
    "        for i in items.keys(): \n",
    "            if i not in item_users:\n",
    "                item_users[i] = set()\n",
    "            item_users[i].add(u)\n",
    "    # calculate co-rated items between users\n",
    "    C = dict()\n",
    "    N = dict()\n",
    "    for i, users in item_users.items():\n",
    "        for u in users:\n",
    "            if u  not in N:\n",
    "                N[u] = 1\n",
    "            N[u] += 1\n",
    "            if u not in C:\n",
    "                C[u] = dict()\n",
    "            for v in users:\n",
    "                if u==v:\n",
    "                    continue\n",
    "                if v not in C[u]:\n",
    "                    C[u][v] = 0\n",
    "                C[u][v] += 1 / math.log(1 + len(users))\n",
    "    # calculate finial similarity matrix W\n",
    "    W = dict()\n",
    "    for u, related_users in C.items():\n",
    "        if u not in W:\n",
    "            W[u]=dict()\n",
    "        for v, cuv in related_users.items():\n",
    "            W[u][v] = cuv / math.sqrt(N[u]*N[v])\n",
    "    return W"
   ]
  },
  {
   "cell_type": "code",
   "execution_count": 33,
   "metadata": {
    "collapsed": false,
    "scrolled": true
   },
   "outputs": [],
   "source": [
    "W = UserSimilarity(train_dict)"
   ]
  },
  {
   "cell_type": "code",
   "execution_count": 34,
   "metadata": {
    "collapsed": false
   },
   "outputs": [
    {
     "name": "stdout",
     "output_type": "stream",
     "text": [
      "<type 'builtin_function_or_method'>\n"
     ]
    }
   ],
   "source": [
    "print type(train_dict[1].items)"
   ]
  },
  {
   "cell_type": "code",
   "execution_count": 35,
   "metadata": {
    "collapsed": true
   },
   "outputs": [],
   "source": [
    "def Recommend(user, train, W, k):\n",
    "    rank = dict()\n",
    "    interacted_items = train[user]  # 用户历史item和商品评分数据\n",
    "    k_users_smi = sorted(W[user].items(), key=lambda x:x[1], reverse=True)[0:k]\n",
    "    for v, wuv in k_users_smi:  # 找出用户u最相似的前k个用户\n",
    "        for i, rvi in train[v].items(): # 找出这k个用户的数据\n",
    "            if i in interacted_items:\n",
    "                continue\n",
    "            if i not in rank:\n",
    "                rank[i] = 0\n",
    "            rank[i] += wuv * rvi  # 用户u与用户v的相似度*用户u对商品i的相似度\n",
    "    return rank"
   ]
  },
  {
   "cell_type": "code",
   "execution_count": 36,
   "metadata": {
    "collapsed": true
   },
   "outputs": [],
   "source": [
    "def GetRecommendation(user, train, W, N, k):\n",
    "    rank = Recommend(user, train, W, k)\n",
    "    return sorted(rank.items(), key=lambda x:x[1], reverse=True)[0:N]"
   ]
  },
  {
   "cell_type": "code",
   "execution_count": 37,
   "metadata": {
    "collapsed": true
   },
   "outputs": [],
   "source": [
    "def Precision(train, test, W, N, k):\n",
    "    hit = 0\n",
    "    all = 0\n",
    "    for user in train.keys():\n",
    "        if user in test:  # 保证测试集存在\n",
    "            tu = test[user]\n",
    "            rank = GetRecommendation(user, train, W, N, k)\n",
    "            for item, pui in rank:\n",
    "                if item in tu:\n",
    "                    hit += 1\n",
    "            all += N\n",
    "    return hit / (all*1.0)"
   ]
  },
  {
   "cell_type": "code",
   "execution_count": 38,
   "metadata": {
    "collapsed": false,
    "scrolled": true
   },
   "outputs": [
    {
     "data": {
      "text/plain": [
       "0.12669159544159544"
      ]
     },
     "execution_count": 38,
     "metadata": {},
     "output_type": "execute_result"
    }
   ],
   "source": [
    "Precision(train_dict, test_dict, W, 10, k=100)"
   ]
  },
  {
   "cell_type": "markdown",
   "metadata": {},
   "source": []
  },
  {
   "cell_type": "code",
   "execution_count": 39,
   "metadata": {
    "collapsed": true
   },
   "outputs": [],
   "source": [
    "def Recall(train, test, W, N, k):\n",
    "    hit = 0\n",
    "    all = 0\n",
    "    for user in train.keys():\n",
    "        if user in test: \n",
    "            tu = test[user]\n",
    "            rank = GetRecommendation(user, train, W, N, k)\n",
    "            for item, pui in rank:\n",
    "                if item in tu:\n",
    "                    hit += 1\n",
    "            all += len(tu)\n",
    "    return hit / (all*1.0)"
   ]
  },
  {
   "cell_type": "code",
   "execution_count": 40,
   "metadata": {
    "collapsed": false
   },
   "outputs": [
    {
     "data": {
      "text/plain": [
       "0.14900211513894998"
      ]
     },
     "execution_count": 40,
     "metadata": {},
     "output_type": "execute_result"
    }
   ],
   "source": [
    "Recall(train_dict, test_dict, W, 10, k=100)"
   ]
  },
  {
   "cell_type": "code",
   "execution_count": 46,
   "metadata": {
    "collapsed": false
   },
   "outputs": [],
   "source": [
    "def ItemSimilarity(train):\n",
    "    # calculate co-rated users between items\n",
    "    C = dict()\n",
    "    N = dict()\n",
    "    for u, items in train.items():\n",
    "        for i in items:\n",
    "            if i not in N:\n",
    "                N[i] = 0\n",
    "            N[i] += 1\n",
    "            if i not in C:\n",
    "                C[i] = dict()\n",
    "            for j in items:\n",
    "                if i==j:\n",
    "                    continue\n",
    "                if j not in C[i]:\n",
    "                    C[i][j] = 0\n",
    "                C[i][j] += 1\n",
    "    W = dict()\n",
    "    for i, related_items in C.items():\n",
    "        if i not in W:\n",
    "            W[i] = dict()\n",
    "        for j, cij in related_items.items():\n",
    "            W[i][j] = cij/math.sqrt(N[i]*N[j])\n",
    "    return W"
   ]
  },
  {
   "cell_type": "code",
   "execution_count": 47,
   "metadata": {
    "collapsed": false
   },
   "outputs": [],
   "source": [
    "W2 = ItemSimilarity(train_dict)"
   ]
  },
  {
   "cell_type": "code",
   "execution_count": 56,
   "metadata": {
    "collapsed": true
   },
   "outputs": [],
   "source": [
    "def Recommendation(train, user_id, W, k):\n",
    "    rank = dict()\n",
    "    ru = train[user_id]\n",
    "    for i, pi in ru.items():\n",
    "        k_item_smi = sorted(W[i].items(), key=lambda x:x[1], reverse=True)[0:k]\n",
    "        for j, wj in k_item_smi:\n",
    "            if j in ru:\n",
    "                continue\n",
    "            if j not in rank:\n",
    "                rank[j] = 0\n",
    "            rank[j] += pi*wj\n",
    "    return rank"
   ]
  },
  {
   "cell_type": "code",
   "execution_count": 57,
   "metadata": {
    "collapsed": true
   },
   "outputs": [],
   "source": [
    "def getRecommendation(train, user_id, W, N, k):\n",
    "    rank = Recommendation(train, user_id , W, k)\n",
    "    return sorted(rank.items(), key=lambda x: x[1], reverse=True)[0:N]"
   ]
  },
  {
   "cell_type": "code",
   "execution_count": 61,
   "metadata": {
    "collapsed": false
   },
   "outputs": [
    {
     "data": {
      "text/plain": [
       "[(364, 4.8522944807562745),\n",
       " (318, 4.369869824633019),\n",
       " (1196, 4.354937499794326),\n",
       " (2080, 4.127196653457239),\n",
       " (1282, 3.92622862301438),\n",
       " (2571, 3.913764325330487),\n",
       " (296, 3.529667880170433),\n",
       " (2174, 3.4799394567872257),\n",
       " (593, 3.4673681400135914),\n",
       " (2858, 3.381508172672512)]"
      ]
     },
     "execution_count": 61,
     "metadata": {},
     "output_type": "execute_result"
    }
   ],
   "source": [
    "getRecommendation(train_dict, 1, W2, 10, 10)"
   ]
  },
  {
   "cell_type": "code",
   "execution_count": 12,
   "metadata": {
    "collapsed": true
   },
   "outputs": [],
   "source": [
    "from recommendation import ItemItemRecommendation"
   ]
  },
  {
   "cell_type": "code",
   "execution_count": 13,
   "metadata": {
    "collapsed": true
   },
   "outputs": [],
   "source": [
    "model = ItemItemRecommendation()"
   ]
  },
  {
   "cell_type": "code",
   "execution_count": 14,
   "metadata": {
    "collapsed": true
   },
   "outputs": [],
   "source": [
    "model.itemSimilarity(train_dict)"
   ]
  },
  {
   "cell_type": "code",
   "execution_count": 15,
   "metadata": {
    "collapsed": false
   },
   "outputs": [
    {
     "ename": "KeyboardInterrupt",
     "evalue": "",
     "output_type": "error",
     "traceback": [
      "\u001b[0;31m\u001b[0m",
      "\u001b[0;31mKeyboardInterrupt\u001b[0mTraceback (most recent call last)",
      "\u001b[0;32m<ipython-input-15-659a322763a6>\u001b[0m in \u001b[0;36m<module>\u001b[0;34m()\u001b[0m\n\u001b[0;32m----> 1\u001b[0;31m \u001b[0mmodel\u001b[0m\u001b[0;34m.\u001b[0m\u001b[0mprecision\u001b[0m\u001b[0;34m(\u001b[0m\u001b[0mtrain_dict\u001b[0m\u001b[0;34m,\u001b[0m \u001b[0mtest_dict\u001b[0m\u001b[0;34m,\u001b[0m \u001b[0;36m10\u001b[0m\u001b[0;34m,\u001b[0m \u001b[0;36m100\u001b[0m\u001b[0;34m)\u001b[0m\u001b[0;34m\u001b[0m\u001b[0m\n\u001b[0m",
      "\u001b[0;32m/home/john/PycharmProjects/rooot/recommendation_in_action/recommendation.py\u001b[0m in \u001b[0;36mprecision\u001b[0;34m(self, train, test, N, k)\u001b[0m\n\u001b[1;32m    176\u001b[0m             \u001b[0;32mif\u001b[0m \u001b[0muser\u001b[0m \u001b[0;32min\u001b[0m \u001b[0mtest\u001b[0m\u001b[0;34m:\u001b[0m  \u001b[0;31m# 保证测试集存在\u001b[0m\u001b[0;34m\u001b[0m\u001b[0m\n\u001b[1;32m    177\u001b[0m                 \u001b[0mtu\u001b[0m \u001b[0;34m=\u001b[0m \u001b[0mtest\u001b[0m\u001b[0;34m[\u001b[0m\u001b[0muser\u001b[0m\u001b[0;34m]\u001b[0m\u001b[0;34m\u001b[0m\u001b[0m\n\u001b[0;32m--> 178\u001b[0;31m                 \u001b[0mrank\u001b[0m \u001b[0;34m=\u001b[0m \u001b[0mself\u001b[0m\u001b[0;34m.\u001b[0m\u001b[0mgetRecommendation\u001b[0m\u001b[0;34m(\u001b[0m\u001b[0muser\u001b[0m\u001b[0;34m,\u001b[0m \u001b[0mtrain\u001b[0m\u001b[0;34m,\u001b[0m \u001b[0mN\u001b[0m\u001b[0;34m,\u001b[0m \u001b[0mk\u001b[0m\u001b[0;34m)\u001b[0m\u001b[0;34m\u001b[0m\u001b[0m\n\u001b[0m\u001b[1;32m    179\u001b[0m                 \u001b[0;32mfor\u001b[0m \u001b[0mitem\u001b[0m\u001b[0;34m,\u001b[0m \u001b[0mpui\u001b[0m \u001b[0;32min\u001b[0m \u001b[0mrank\u001b[0m\u001b[0;34m:\u001b[0m\u001b[0;34m\u001b[0m\u001b[0m\n\u001b[1;32m    180\u001b[0m                     \u001b[0;32mif\u001b[0m \u001b[0mitem\u001b[0m \u001b[0;32min\u001b[0m \u001b[0mtu\u001b[0m\u001b[0;34m:\u001b[0m\u001b[0;34m\u001b[0m\u001b[0m\n",
      "\u001b[0;32m/home/john/PycharmProjects/rooot/recommendation_in_action/recommendation.py\u001b[0m in \u001b[0;36mgetRecommendation\u001b[0;34m(self, user, train, N, k)\u001b[0m\n\u001b[1;32m    167\u001b[0m \u001b[0;34m\u001b[0m\u001b[0m\n\u001b[1;32m    168\u001b[0m     \u001b[0;32mdef\u001b[0m \u001b[0mgetRecommendation\u001b[0m\u001b[0;34m(\u001b[0m\u001b[0mself\u001b[0m\u001b[0;34m,\u001b[0m \u001b[0muser\u001b[0m\u001b[0;34m,\u001b[0m \u001b[0mtrain\u001b[0m\u001b[0;34m,\u001b[0m \u001b[0mN\u001b[0m\u001b[0;34m,\u001b[0m \u001b[0mk\u001b[0m\u001b[0;34m)\u001b[0m\u001b[0;34m:\u001b[0m\u001b[0;34m\u001b[0m\u001b[0m\n\u001b[0;32m--> 169\u001b[0;31m         \u001b[0mrank\u001b[0m \u001b[0;34m=\u001b[0m \u001b[0mself\u001b[0m\u001b[0;34m.\u001b[0m\u001b[0mrecommendation\u001b[0m\u001b[0;34m(\u001b[0m\u001b[0muser\u001b[0m\u001b[0;34m,\u001b[0m \u001b[0mtrain\u001b[0m\u001b[0;34m,\u001b[0m \u001b[0mk\u001b[0m\u001b[0;34m)\u001b[0m\u001b[0;34m\u001b[0m\u001b[0m\n\u001b[0m\u001b[1;32m    170\u001b[0m         \u001b[0;32mreturn\u001b[0m \u001b[0msorted\u001b[0m\u001b[0;34m(\u001b[0m\u001b[0mrank\u001b[0m\u001b[0;34m.\u001b[0m\u001b[0mitems\u001b[0m\u001b[0;34m(\u001b[0m\u001b[0;34m)\u001b[0m\u001b[0;34m,\u001b[0m \u001b[0mkey\u001b[0m\u001b[0;34m=\u001b[0m\u001b[0;32mlambda\u001b[0m \u001b[0mx\u001b[0m\u001b[0;34m:\u001b[0m \u001b[0mx\u001b[0m\u001b[0;34m[\u001b[0m\u001b[0;36m1\u001b[0m\u001b[0;34m]\u001b[0m\u001b[0;34m,\u001b[0m \u001b[0mreverse\u001b[0m\u001b[0;34m=\u001b[0m\u001b[0mTrue\u001b[0m\u001b[0;34m)\u001b[0m\u001b[0;34m[\u001b[0m\u001b[0;36m0\u001b[0m\u001b[0;34m:\u001b[0m\u001b[0mN\u001b[0m\u001b[0;34m]\u001b[0m\u001b[0;34m\u001b[0m\u001b[0m\n\u001b[1;32m    171\u001b[0m \u001b[0;34m\u001b[0m\u001b[0m\n",
      "\u001b[0;32m/home/john/PycharmProjects/rooot/recommendation_in_action/recommendation.py\u001b[0m in \u001b[0;36mrecommendation\u001b[0;34m(self, user, train, k)\u001b[0m\n\u001b[1;32m    159\u001b[0m             \u001b[0mk_item_smi\u001b[0m \u001b[0;34m=\u001b[0m \u001b[0msorted\u001b[0m\u001b[0;34m(\u001b[0m\u001b[0mself\u001b[0m\u001b[0;34m.\u001b[0m\u001b[0mW\u001b[0m\u001b[0;34m[\u001b[0m\u001b[0mi\u001b[0m\u001b[0;34m]\u001b[0m\u001b[0;34m.\u001b[0m\u001b[0mitems\u001b[0m\u001b[0;34m(\u001b[0m\u001b[0;34m)\u001b[0m\u001b[0;34m,\u001b[0m \u001b[0mkey\u001b[0m\u001b[0;34m=\u001b[0m\u001b[0;32mlambda\u001b[0m \u001b[0mx\u001b[0m\u001b[0;34m:\u001b[0m \u001b[0mx\u001b[0m\u001b[0;34m[\u001b[0m\u001b[0;36m1\u001b[0m\u001b[0;34m]\u001b[0m\u001b[0;34m,\u001b[0m \u001b[0mreverse\u001b[0m\u001b[0;34m=\u001b[0m\u001b[0mTrue\u001b[0m\u001b[0;34m)\u001b[0m\u001b[0;34m[\u001b[0m\u001b[0;36m0\u001b[0m\u001b[0;34m:\u001b[0m\u001b[0mk\u001b[0m\u001b[0;34m]\u001b[0m\u001b[0;34m\u001b[0m\u001b[0m\n\u001b[1;32m    160\u001b[0m             \u001b[0;32mfor\u001b[0m \u001b[0mj\u001b[0m\u001b[0;34m,\u001b[0m \u001b[0mwj\u001b[0m \u001b[0;32min\u001b[0m \u001b[0mk_item_smi\u001b[0m\u001b[0;34m:\u001b[0m\u001b[0;34m\u001b[0m\u001b[0m\n\u001b[0;32m--> 161\u001b[0;31m                 \u001b[0;32mif\u001b[0m \u001b[0mj\u001b[0m \u001b[0;32min\u001b[0m \u001b[0mru\u001b[0m\u001b[0;34m:\u001b[0m\u001b[0;34m\u001b[0m\u001b[0m\n\u001b[0m\u001b[1;32m    162\u001b[0m                     \u001b[0;32mcontinue\u001b[0m\u001b[0;34m\u001b[0m\u001b[0m\n\u001b[1;32m    163\u001b[0m                 \u001b[0;32mif\u001b[0m \u001b[0mj\u001b[0m \u001b[0;32mnot\u001b[0m \u001b[0;32min\u001b[0m \u001b[0mrank\u001b[0m\u001b[0;34m:\u001b[0m\u001b[0;34m\u001b[0m\u001b[0m\n",
      "\u001b[0;31mKeyboardInterrupt\u001b[0m: "
     ]
    }
   ],
   "source": [
    "model.precision(train_dict, test_dict, 10, 100)"
   ]
  },
  {
   "cell_type": "code",
   "execution_count": null,
   "metadata": {
    "collapsed": true
   },
   "outputs": [],
   "source": []
  }
 ],
 "metadata": {
  "kernelspec": {
   "display_name": "Python 2",
   "language": "python",
   "name": "python2"
  },
  "language_info": {
   "codemirror_mode": {
    "name": "ipython",
    "version": 2
   },
   "file_extension": ".py",
   "mimetype": "text/x-python",
   "name": "python",
   "nbconvert_exporter": "python",
   "pygments_lexer": "ipython2",
   "version": "2.7.12"
  }
 },
 "nbformat": 4,
 "nbformat_minor": 0
}
