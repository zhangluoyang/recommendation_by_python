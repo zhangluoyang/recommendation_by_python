{
 "cells": [
  {
   "cell_type": "markdown",
   "metadata": {},
   "source": [
    " 隐含语义模型用于个性化推荐"
   ]
  },
  {
   "cell_type": "code",
   "execution_count": 1,
   "metadata": {
    "collapsed": true
   },
   "outputs": [],
   "source": [
    "from IPython.display import Latex"
   ]
  },
  {
   "cell_type": "code",
   "execution_count": 2,
   "metadata": {
    "collapsed": false
   },
   "outputs": [
    {
     "data": {
      "text/latex": [
       "$Preference(u,i)=r_{ui}=p_{u}^{T}q_{i}=\\sum_{f=1}^{F}p_{u,k}q_{i,k}$"
      ],
      "text/plain": [
       "<IPython.core.display.Latex object>"
      ]
     },
     "execution_count": 2,
     "metadata": {},
     "output_type": "execute_result"
    }
   ],
   "source": [
    "Latex(r\"$Preference(u,i)=r_{ui}=p_{u}^{T}q_{i}=\\sum_{f=1}^{F}p_{u,k}q_{i,k}$\")"
   ]
  },
  {
   "cell_type": "markdown",
   "metadata": {},
   "source": [
    "其中p_{u,k}表示第u个用户对第k个隐含变量的关系, q_{i,k}表示第k个隐含变量与物品i之间的关系\n",
    "如果直接在显性反馈数据上面，这种方法可以得到较好的数据，但是在隐性数据上面，这种方法很难得到较好的方法"
   ]
  },
  {
   "cell_type": "code",
   "execution_count": 3,
   "metadata": {
    "collapsed": true
   },
   "outputs": [],
   "source": [
    "import math\n",
    "import random\n",
    "def splitData(data, M, k, seed):\n",
    "    test = []\n",
    "    train = []\n",
    "    random.seed(seed)\n",
    "    for user, item, score in data:\n",
    "        if random.randint(0,M)==k:\n",
    "            test.append([user, item, score])\n",
    "        else:\n",
    "            train.append([user, item, score])\n",
    "    return train, test"
   ]
  },
  {
   "cell_type": "code",
   "execution_count": 4,
   "metadata": {
    "collapsed": true
   },
   "outputs": [],
   "source": [
    "with open(\"ml-1m/ratings.dat\", \"r\") as f:\n",
    "    lines = f.readlines()\n",
    "lines = map(lambda line:line.strip() , lines)\n",
    "datas = []\n",
    "for line in lines:\n",
    "    d = line.split(\"::\")[0:3]\n",
    "#     datas.append([int(d[0]), int(d[1]), int(d[2])]) # user_id item_id score\n",
    "    datas.append([int(d[0]), int(d[1]), 1]) # user_id item_id score\n",
    "data = datas\n",
    "M = 20\n",
    "k = 10\n",
    "seed = 1\n",
    "train, test = splitData(data, M, k, seed)"
   ]
  },
  {
   "cell_type": "code",
   "execution_count": 5,
   "metadata": {
    "collapsed": true
   },
   "outputs": [],
   "source": [
    "train_dict = {}  # user_id {item_id:score}\n",
    "test_dict = {}\n",
    "for user, item, score in train:\n",
    "    if user not in train_dict:\n",
    "        train_dict[user] = {}\n",
    "    train_dict[user][item]=score\n",
    "for user, item, score in test:\n",
    "    if user not in test_dict:\n",
    "        test_dict[user] = {}\n",
    "    test_dict[user][item]=score"
   ]
  },
  {
   "cell_type": "code",
   "execution_count": 6,
   "metadata": {
    "collapsed": false
   },
   "outputs": [],
   "source": [
    "item_popularity = dict()\n",
    "for user, items in train_dict.items():\n",
    "    for item in items.keys():\n",
    "        if item not in item_popularity:\n",
    "            item_popularity[item] = 0\n",
    "        item_popularity[item] += 1"
   ]
  },
  {
   "cell_type": "code",
   "execution_count": 7,
   "metadata": {
    "collapsed": false
   },
   "outputs": [],
   "source": [
    "items_pool_counts = sorted(item_popularity.items(), key=lambda x:x[1], reverse=True)"
   ]
  },
  {
   "cell_type": "code",
   "execution_count": 8,
   "metadata": {
    "collapsed": false
   },
   "outputs": [],
   "source": [
    "items_pool = []\n",
    "for item, counts in items_pool_counts:\n",
    "    for i in range(counts):\n",
    "        items_pool.append(item)  "
   ]
  },
  {
   "cell_type": "code",
   "execution_count": 9,
   "metadata": {
    "collapsed": true
   },
   "outputs": [],
   "source": [
    "def RandomSelectNegativeSample(items):  # items是某一个用户的商品列表\n",
    "    ret = dict()\n",
    "    for i in items.keys():\n",
    "        ret[i] = 1\n",
    "    n = 0\n",
    "    for i in range(0, len(items)*3):\n",
    "        item = items_pool[random.randint(0, len(items_pool)-1)]  # 按照商品的流行程度进行选择\n",
    "        if item in ret:\n",
    "            continue\n",
    "        ret[item] = 0\n",
    "        n += 1\n",
    "        if n > len(items):\n",
    "            break\n",
    "    return ret"
   ]
  },
  {
   "cell_type": "code",
   "execution_count": 10,
   "metadata": {
    "collapsed": false
   },
   "outputs": [
    {
     "data": {
      "text/plain": [
       "0.5195477984670157"
      ]
     },
     "execution_count": 10,
     "metadata": {},
     "output_type": "execute_result"
    }
   ],
   "source": [
    "random.random()"
   ]
  },
  {
   "cell_type": "code",
   "execution_count": 15,
   "metadata": {
    "collapsed": true
   },
   "outputs": [],
   "source": [
    "def InitModel(user_items, F):\n",
    "    P = dict()\n",
    "    Q = dict()\n",
    "    all_user = set()\n",
    "    all_item = set()\n",
    "    for user, items in user_items.items():\n",
    "        all_user.add(user)\n",
    "        for item in items.keys():\n",
    "            all_item.add(item)\n",
    "    for user in all_user:\n",
    "        if user not in P:\n",
    "            P[user] = dict()\n",
    "        for i in range(F):\n",
    "            P[user][i] = random.random()\n",
    "    for item in all_item:\n",
    "        if item not in Q:\n",
    "            Q[item] = dict()\n",
    "        for i in range(F):\n",
    "            Q[item][i] = random.random()\n",
    "        \n",
    "    return P, Q"
   ]
  },
  {
   "cell_type": "code",
   "execution_count": 19,
   "metadata": {
    "collapsed": true
   },
   "outputs": [],
   "source": [
    "def Predict(P, Q, user, item, F):\n",
    "    p = P[user]\n",
    "    q = Q[item]\n",
    "    predict = 0\n",
    "    for i in range(F):\n",
    "        predict += p[i]*q[i]\n",
    "    return predict"
   ]
  },
  {
   "cell_type": "code",
   "execution_count": 21,
   "metadata": {
    "collapsed": false
   },
   "outputs": [],
   "source": [
    "def LatentFactorModel(user_items, F, N, alpha, lambda_):\n",
    "    [P, Q] = InitModel(user_items, F)\n",
    "    for step in range(N):\n",
    "        for user, items in user_items.items():\n",
    "            samples = RandomSelectNegativeSample(items)\n",
    "            for item, rui in samples.items():\n",
    "                eui = rui - Predict(P, Q, user, item, F)\n",
    "                for f in range(F):\n",
    "                    P[user][f] += alpha*(eui*Q[item][f]- lambda_*P[user][f])\n",
    "                    Q[item][f] += alpha*(eui*P[user][f]- lambda_*Q[item][f])\n",
    "        alpha *= 0.9\n",
    "    return P, Q"
   ]
  },
  {
   "cell_type": "code",
   "execution_count": 22,
   "metadata": {
    "collapsed": false
   },
   "outputs": [],
   "source": [
    "P,Q = LatentFactorModel(train_dict, 100, 10, 0.02, 0.01)"
   ]
  },
  {
   "cell_type": "raw",
   "metadata": {
    "collapsed": true
   },
   "source": []
  },
  {
   "cell_type": "code",
   "execution_count": 23,
   "metadata": {
    "collapsed": false
   },
   "outputs": [
    {
     "data": {
      "text/plain": [
       "0.35552530443761465"
      ]
     },
     "execution_count": 23,
     "metadata": {},
     "output_type": "execute_result"
    }
   ],
   "source": [
    "Predict(P, Q, 1, 2, 100)"
   ]
  },
  {
   "cell_type": "code",
   "execution_count": null,
   "metadata": {
    "collapsed": true
   },
   "outputs": [],
   "source": []
  }
 ],
 "metadata": {
  "kernelspec": {
   "display_name": "Python 2",
   "language": "python",
   "name": "python2"
  },
  "language_info": {
   "codemirror_mode": {
    "name": "ipython",
    "version": 2
   },
   "file_extension": ".py",
   "mimetype": "text/x-python",
   "name": "python",
   "nbconvert_exporter": "python",
   "pygments_lexer": "ipython2",
   "version": "2.7.12"
  }
 },
 "nbformat": 4,
 "nbformat_minor": 2
}
