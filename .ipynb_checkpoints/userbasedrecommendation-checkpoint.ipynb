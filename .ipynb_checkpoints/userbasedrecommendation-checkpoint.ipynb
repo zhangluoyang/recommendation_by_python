{
 "cells": [
  {
   "cell_type": "code",
   "execution_count": 2,
   "metadata": {
    "collapsed": true
   },
   "outputs": [],
   "source": [
    "import math\n",
    "import random\n",
    "def splitData(data, M, k, seed):\n",
    "    test = []\n",
    "    train = []\n",
    "    random.seed(seed)\n",
    "    for user, item, score in data:\n",
    "        if random.randint(0,M)==k:\n",
    "            test.append([user, item, score])\n",
    "        else:\n",
    "            train.append([user, item, score])\n",
    "    return train, test"
   ]
  },
  {
   "cell_type": "code",
   "execution_count": 4,
   "metadata": {
    "collapsed": true
   },
   "outputs": [],
   "source": [
    "with open(\"ml-1m/ratings.dat\", \"r\") as f:\n",
    "    lines = f.readlines()\n",
    "lines = map(lambda line:line.strip() , lines)\n",
    "datas = []\n",
    "for line in lines:\n",
    "    d = line.split(\"::\")[0:3]\n",
    "#     datas.append([int(d[0]), int(d[1]), int(d[2])]) # user_id item_id score\n",
    "    datas.append([int(d[0]), int(d[1]), 1]) # user_id item_id score\n",
    "data = datas\n",
    "M = 20\n",
    "k = 10\n",
    "seed = 1\n",
    "train, test = splitData(data, M, k, seed)"
   ]
  },
  {
   "cell_type": "code",
   "execution_count": 5,
   "metadata": {
    "collapsed": true
   },
   "outputs": [],
   "source": [
    "train_dict = {}  # user_id {item_id:score}\n",
    "test_dict = {}\n",
    "for user, item, score in train:\n",
    "    if user not in train_dict:\n",
    "        train_dict[user] = {}\n",
    "    train_dict[user][item]=score\n",
    "for user, item, score in test:\n",
    "    if user not in test_dict:\n",
    "        test_dict[user] = {}\n",
    "    test_dict[user][item]=score"
   ]
  },
  {
   "cell_type": "code",
   "execution_count": 7,
   "metadata": {
    "collapsed": true
   },
   "outputs": [],
   "source": [
    "def UserSimilarity(train):\n",
    "    item_users = dict()\n",
    "    for u, items in train.items(): \n",
    "        for i in items.keys(): \n",
    "            if i not in item_users:\n",
    "                item_users[i] = set()\n",
    "            item_users[i].add(u)\n",
    "    # calculate co-rated items between users\n",
    "    C = dict()\n",
    "    N = dict()\n",
    "    for i, users in item_users.items():\n",
    "        for u in users:\n",
    "            if u  not in N:\n",
    "                N[u] = 1\n",
    "            N[u] += 1\n",
    "            if u not in C:\n",
    "                C[u] = dict()\n",
    "            for v in users:\n",
    "                if u==v:\n",
    "                    continue\n",
    "                if v not in C[u]:\n",
    "                    C[u][v] = 0\n",
    "                C[u][v] += 1 / math.log(1 + len(users))\n",
    "    # calculate finial similarity matrix W\n",
    "    W = dict()\n",
    "    for u, related_users in C.items():\n",
    "        if u not in W:\n",
    "            W[u]=dict()\n",
    "        for v, cuv in related_users.items():\n",
    "            W[u][v] = cuv / math.sqrt(N[u]*N[v])\n",
    "    return W"
   ]
  },
  {
   "cell_type": "code",
   "execution_count": null,
   "metadata": {
    "collapsed": true
   },
   "outputs": [],
   "source": [
    "W = UserSimilarity(train_dict)"
   ]
  },
  {
   "cell_type": "code",
   "execution_count": null,
   "metadata": {
    "collapsed": true
   },
   "outputs": [],
   "source": []
  }
 ],
 "metadata": {
  "kernelspec": {
   "display_name": "Python 2",
   "language": "python",
   "name": "python2"
  },
  "language_info": {
   "codemirror_mode": {
    "name": "ipython",
    "version": 2
   },
   "file_extension": ".py",
   "mimetype": "text/x-python",
   "name": "python",
   "nbconvert_exporter": "python",
   "pygments_lexer": "ipython2",
   "version": "2.7.12"
  }
 },
 "nbformat": 4,
 "nbformat_minor": 2
}
